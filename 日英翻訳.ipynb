{
  "nbformat": 4,
  "nbformat_minor": 0,
  "metadata": {
    "colab": {
      "name": "日英翻訳.ipynb",
      "provenance": [],
      "collapsed_sections": []
    },
    "kernelspec": {
      "display_name": "Python 3",
      "name": "python3"
    }
  },
  "cells": [
    {
      "cell_type": "code",
      "metadata": {
        "id": "X0P1cj-C9PYh",
        "colab": {
          "base_uri": "https://localhost:8080/"
        },
        "outputId": "0706bdfb-48b3-4eb9-8bcf-b77acd7e793d"
      },
      "source": [
        "!git clone https://github.com/odashi/small_parallel_enja.git"
      ],
      "execution_count": 1,
      "outputs": [
        {
          "output_type": "stream",
          "text": [
            "Cloning into 'small_parallel_enja'...\n",
            "remote: Enumerating objects: 35, done.\u001b[K\n",
            "remote: Total 35 (delta 0), reused 0 (delta 0), pack-reused 35\u001b[K\n",
            "Unpacking objects: 100% (35/35), done.\n"
          ],
          "name": "stdout"
        }
      ]
    },
    {
      "cell_type": "code",
      "metadata": {
        "id": "CsGcHUa-9ROY"
      },
      "source": [
        "import tensorflow as tf\n",
        "import numpy as np\n",
        "import matplotlib.pyplot as plt\n",
        "import re\n",
        "import nltk\n",
        "from nltk.translate.bleu_score import sentence_bleu\n",
        "from nltk.translate.bleu_score import SmoothingFunction"
      ],
      "execution_count": 3,
      "outputs": []
    },
    {
      "cell_type": "code",
      "metadata": {
        "colab": {
          "base_uri": "https://localhost:8080/"
        },
        "id": "kuISKcrx9UzI",
        "outputId": "11c1a0a2-9463-4e35-8d9e-6dfa3c1aea9e"
      },
      "source": [
        "ls small_parallel_enja/"
      ],
      "execution_count": 4,
      "outputs": [
        {
          "output_type": "stream",
          "text": [
            "dev.en     train.en.000       train.en.vocab.all  train.ja.004\n",
            "dev.ja     train.en.001       train.ja            train.ja.vocab.4k\n",
            "README.md  train.en.002       train.ja.000        train.ja.vocab.all\n",
            "test.en    train.en.003       train.ja.001\n",
            "test.ja    train.en.004       train.ja.002\n",
            "train.en   train.en.vocab.4k  train.ja.003\n"
          ],
          "name": "stdout"
        }
      ]
    },
    {
      "cell_type": "markdown",
      "metadata": {
        "id": "JfAViffgYOdJ"
      },
      "source": [
        ""
      ]
    },
    {
      "cell_type": "code",
      "metadata": {
        "id": "0_aMckRl9YEO"
      },
      "source": [
        "def Preprocess(text):\n",
        "  text = \"<start> \"+text+\" <end>\"\n",
        "  text = text.replace(\"\\n\", \" \")\n",
        "  text = re.sub(r\"[' ']+\", \" \", text)\n",
        "  return text\n",
        "\n",
        "def Read(filename):\n",
        "  new_lines = []\n",
        "  with open(filename, \"r\") as f:\n",
        "    lines = f.readlines()\n",
        "  for line in lines:\n",
        "    new_lines.append(Preprocess(line))\n",
        "  return new_lines\n",
        "\n",
        "def BuildTokenizer(texts):\n",
        "  tokenizer = tf.keras.preprocessing.text.Tokenizer(filters='\\n', oov_token=\"<unk>\")\n",
        "  tokenizer.fit_on_texts(texts)\n",
        "  return tokenizer\n",
        "\n",
        "def Texts2Sequences(tok, train_texts, valid_texts, test_texts):\n",
        "  train_sequences = tok.texts_to_sequences(train_texts)\n",
        "  valid_sequences = tok.texts_to_sequences(valid_texts)\n",
        "  test_sequences = tok.texts_to_sequences(test_texts)\n",
        "  \n",
        "  padded_train_sequences = tf.keras.preprocessing.sequence.pad_sequences(train_sequences, padding=\"post\")\n",
        "\n",
        "  return padded_train_sequences, valid_sequences, test_sequences "
      ],
      "execution_count": 5,
      "outputs": []
    },
    {
      "cell_type": "code",
      "metadata": {
        "id": "G1bZWP3Y9er5"
      },
      "source": [
        "DIR_NAME = \"small_parallel_enja/\"\n",
        "train_ja = Read(DIR_NAME+\"train.ja\")\n",
        "train_en = Read(DIR_NAME+\"train.en\")\n",
        "\n",
        "valid_ja = Read(DIR_NAME+\"dev.ja\")\n",
        "valid_en = Read(DIR_NAME+\"dev.en\")\n",
        "\n",
        "test_ja = Read(DIR_NAME+\"test.ja\")\n",
        "test_en = Read(DIR_NAME+\"train.en\")"
      ],
      "execution_count": 6,
      "outputs": []
    },
    {
      "cell_type": "code",
      "metadata": {
        "id": "iJOeCwwf93hH"
      },
      "source": [
        "ja_tokenizer = BuildTokenizer(train_ja)\n",
        "en_tokenizer = BuildTokenizer(train_en)"
      ],
      "execution_count": 7,
      "outputs": []
    },
    {
      "cell_type": "code",
      "metadata": {
        "id": "NWsKAqGz94Wv"
      },
      "source": [
        "train_ja_sequences, valid_ja_sequences, test_ja_sequences = Texts2Sequences(ja_tokenizer, train_ja, valid_ja, test_ja)\n",
        "train_en_sequences, valid_en_sequences, test_en_sequences = Texts2Sequences(en_tokenizer, train_en, valid_en, test_en)"
      ],
      "execution_count": 8,
      "outputs": []
    },
    {
      "cell_type": "code",
      "metadata": {
        "id": "6CEC1JWC_T--"
      },
      "source": [
        "def CreateEncoderModel(vocab_size):\n",
        "  units = 128\n",
        "  emb_layer = tf.keras.layers.Embedding(vocab_size, units, mask_zero=True, name=\"encdoder_emb\")#padding有効にするために、mask_zero=True\n",
        "  gru_layer  = tf.keras.layers.GRU(units, name=\"encdoder_gru\")\n",
        "  encoder_inputs = tf.keras.Input(shape=(None,), name=\"encdoder_inputs\")\n",
        "  outputs = emb_layer(encoder_inputs)\n",
        "  outputs = gru_layer(outputs)\n",
        "  \n",
        "  encoder = tf.keras.Model(encoder_inputs, outputs)\n",
        "\n",
        "  return encoder\n",
        "\n",
        "def CreateDecoderModel(vocab_size):\n",
        "  units = 128\n",
        "\n",
        "  emb_layer = tf.keras.layers.Embedding(vocab_size, units, mask_zero=True, name=\"decdoder_emb\")#padding有効にするために、mask_zero=True\n",
        "  gru_layer  = tf.keras.layers.GRU(units, return_sequences=True, name=\"decdoder_gru\")\n",
        "  dense_layer = tf.keras.layers.Dense(vocab_size, activation=\"softmax\", name=\"decdoder_outputs\")\n",
        "\n",
        "  decoder_inputs  = tf.keras.Input(shape=(None,), name=\"decdoder_inputs\")\n",
        "  decoder_hidden_states = tf.keras.Input(shape=(None,), name=\"decoder_hidden_states\")\n",
        "\n",
        "  outputs = emb_layer(decoder_inputs)\n",
        "  gru_outputs = gru_layer(outputs, initial_state=decoder_hidden_states)\n",
        "  outputs = dense_layer(gru_outputs)\n",
        "\n",
        "  decoder = tf.keras.Model([decoder_inputs, decoder_hidden_states], [outputs, gru_outputs])\n",
        "\n",
        "  return decoder\n",
        "\n",
        "def CreateModel(seed, ja_vocab_size, en_vocab_size):\n",
        "  tf.random.set_seed(seed)\n",
        "  encoder = CreateEncoderModel(ja_vocab_size)\n",
        "  decoder = CreateDecoderModel(en_vocab_size)\n",
        "\n",
        "  encoder_inputs = tf.keras.Input(shape=(None,))\n",
        "  decoder_inputs = tf.keras.Input(shape=(None,))\n",
        "\n",
        "  encoder_outputs = encoder(encoder_inputs)\n",
        "  decoder_outputs, gru_outputs = decoder([decoder_inputs, encoder_outputs])\n",
        "  \n",
        "  model = tf.keras.Model([encoder_inputs, decoder_inputs], decoder_outputs)\n",
        "  model.compile(optimizer='adam',\n",
        "                loss=tf.keras.losses.SparseCategoricalCrossentropy(from_logits=False),\n",
        "                )\n",
        "  return model, encoder, decoder"
      ],
      "execution_count": 9,
      "outputs": []
    },
    {
      "cell_type": "code",
      "metadata": {
        "id": "6gra1BzA2qhU"
      },
      "source": [
        "#評価方法はBLEU\n",
        "def Evaluate(ja_texts, en_texts, encoder, decoder):\n",
        "  score = 0.0\n",
        "  for ja_text, en_text in zip(ja_texts, en_texts):\n",
        "    predicted_text = Predict(ja_text, encoder, decoder)\n",
        "    score += sentence_bleu([en_text.strip().split()], predicted_text.strip().split(), smoothing_function=SmoothingFunction().method4)\n",
        "  return score/len(ja_texts)\n",
        "\n",
        "def Predict(ja_text, encoder, decoder):\n",
        "  #日本語文章が形態素解析されていない状態の場合は、MeCabを使ってください。\n",
        "  #MeCabの使い方\n",
        "  #m = MeCab.Tagger(\"-Owakati\")\n",
        "  #ja_text           = m.parse(ja_text).strip()\n",
        "  \n",
        "  sequence         = ja_tokenizer.texts_to_sequences([ja_text.strip()])\n",
        "  sequence         = np.array(sequence)\n",
        "  encoder_outputs = encoder(sequence)\n",
        "\n",
        "  decoder_hidden_states = encoder_outputs\n",
        "  decoder_inputs = np.array(en_tokenizer.texts_to_sequences([[\"<start>\"]]))\n",
        "\n",
        "  #20回で打ち切り\n",
        "  ans = \"<start>\"\n",
        "  for _ in range(20):\n",
        "    prediction, decoder_hidden_states = decoder([decoder_inputs, tf.reshape(decoder_hidden_states, [1, -1])])\n",
        "    prediction_id = tf.argmax(prediction, axis=-1)[0][0].numpy()\n",
        "    word = en_tokenizer.sequences_to_texts([[prediction_id]])\n",
        "    decoder_inputs = np.reshape(np.array(prediction_id), [-1, 1])\n",
        "    ans += \" \"+word[0]\n",
        "    if word[0]==\"<end>\":\n",
        "      break\n",
        "  return ans"
      ],
      "execution_count": 14,
      "outputs": []
    },
    {
      "cell_type": "code",
      "metadata": {
        "id": "7ExEWjeLBWaD",
        "colab": {
          "base_uri": "https://localhost:8080/"
        },
        "outputId": "2d64dbd7-3b81-4129-ae19-eadec27ec665"
      },
      "source": [
        "bleu_scores = []\n",
        "batch_size_list = [32, 64, 128]\n",
        "for batch_size in batch_size_list:\n",
        "  model, encoder, decoder = CreateModel(123, len(ja_tokenizer.word_index)+1, len(en_tokenizer.word_index)+1)\n",
        "  model.fit([train_ja_sequences, train_en_sequences[:, :-1]], train_en_sequences[:, 1:], batch_size=batch_size, epochs=2)\n",
        "  model.save(str(batch_size)+\"model.h5\")\n",
        "  encoder.load_weights(str(batch_size)+\"model.h5\", by_name=True)\n",
        "  decoder.load_weights(str(batch_size)+\"model.h5\", by_name=True)\n",
        "  bleu_score = Evaluate(valid_ja, valid_en, encoder, decoder)\n",
        "  bleu_scores.append(bleu_score)"
      ],
      "execution_count": 15,
      "outputs": [
        {
          "output_type": "stream",
          "text": [
            "Epoch 1/2\n",
            "1563/1563 [==============================] - 353s 226ms/step - loss: 2.2159\n",
            "Epoch 2/2\n",
            "1563/1563 [==============================] - 352s 225ms/step - loss: 1.6634\n",
            "Epoch 1/2\n",
            "782/782 [==============================] - 330s 421ms/step - loss: 2.4581\n",
            "Epoch 2/2\n",
            "782/782 [==============================] - 329s 421ms/step - loss: 1.8768\n",
            "Epoch 1/2\n",
            "391/391 [==============================] - 308s 788ms/step - loss: 2.7507\n",
            "Epoch 2/2\n",
            "391/391 [==============================] - 308s 788ms/step - loss: 2.0693\n"
          ],
          "name": "stdout"
        }
      ]
    },
    {
      "cell_type": "code",
      "metadata": {
        "colab": {
          "base_uri": "https://localhost:8080/",
          "height": 297
        },
        "id": "_WYrk6arDlIn",
        "outputId": "17bbf8de-5e2e-42ef-c2ac-e5e4a7835258"
      },
      "source": [
        "plt.plot([str(i) for i in batch_size_list], bleu_scores)\n",
        "plt.xlabel(\"batch_size\")\n",
        "plt.ylabel(\"BLEU\")"
      ],
      "execution_count": 28,
      "outputs": [
        {
          "output_type": "execute_result",
          "data": {
            "text/plain": [
              "Text(0, 0.5, 'BLEU')"
            ]
          },
          "metadata": {
            "tags": []
          },
          "execution_count": 28
        },
        {
          "output_type": "display_data",
          "data": {
            "image/png": "[encoded data removed]",
            "text/plain": [
              "<Figure size 432x288 with 1 Axes>"
            ]
          },
          "metadata": {
            "tags": [],
            "needs_background": "light"
          }
        }
      ]
    },
    {
      "cell_type": "code",
      "metadata": {
        "id": "yeN3rGhYD8au"
      },
      "source": [
        "#学習データと検証データを混ぜる\n",
        "valid_ja_sequences = tf.keras.preprocessing.sequence.pad_sequences(valid_ja_sequences, padding=\"post\")\n",
        "valid_en_sequences = tf.keras.preprocessing.sequence.pad_sequences(valid_en_sequences, padding=\"post\")\n",
        "\n",
        "train_and_valid_ja_sequences = tf.concat([train_ja_sequences, valid_ja_sequences], 0)\n",
        "train_and_valid_en_sequences = tf.concat([train_en_sequences, valid_en_sequences], 0)"
      ],
      "execution_count": 29,
      "outputs": []
    },
    {
      "cell_type": "markdown",
      "metadata": {
        "id": "LXlzVJFfPFTC"
      },
      "source": [
        ""
      ]
    },
    {
      "cell_type": "code",
      "metadata": {
        "id": "JbQCs3w2aolB",
        "colab": {
          "base_uri": "https://localhost:8080/"
        },
        "outputId": "0d63bae2-b4e6-4474-8c49-eeb8541c391a"
      },
      "source": [
        "best_model, best_encoder, best_decoder = CreateModel(123, len(ja_tokenizer.word_index)+1, len(en_tokenizer.word_index)+1)\n",
        "best_model.fit([train_and_valid_ja_sequences, train_and_valid_en_sequences[:, :-1]], train_and_valid_en_sequences[:, 1:], batch_size=32, epochs=10)\n",
        "best_model.save(\"best_model.h5\")"
      ],
      "execution_count": 32,
      "outputs": [
        {
          "output_type": "stream",
          "text": [
            "Epoch 1/10\n",
            "1579/1579 [==============================] - 363s 230ms/step - loss: 2.2087\n",
            "Epoch 2/10\n",
            "1579/1579 [==============================] - 363s 230ms/step - loss: 1.6576\n",
            "Epoch 3/10\n",
            "1579/1579 [==============================] - 362s 229ms/step - loss: 1.4217\n",
            "Epoch 4/10\n",
            "1579/1579 [==============================] - 361s 229ms/step - loss: 1.2494\n",
            "Epoch 5/10\n",
            "1579/1579 [==============================] - 363s 230ms/step - loss: 1.1193\n",
            "Epoch 6/10\n",
            "1579/1579 [==============================] - 363s 230ms/step - loss: 1.0169\n",
            "Epoch 7/10\n",
            "1579/1579 [==============================] - 360s 228ms/step - loss: 0.9321\n",
            "Epoch 8/10\n",
            "1579/1579 [==============================] - 360s 228ms/step - loss: 0.8602\n",
            "Epoch 9/10\n",
            "1579/1579 [==============================] - 359s 227ms/step - loss: 0.7980\n",
            "Epoch 10/10\n",
            "1579/1579 [==============================] - 361s 228ms/step - loss: 0.7439\n"
          ],
          "name": "stdout"
        }
      ]
    },
    {
      "cell_type": "code",
      "metadata": {
        "id": "XvSkGEbKasfL",
        "colab": {
          "base_uri": "https://localhost:8080/"
        },
        "outputId": "d9346c34-6e90-4f46-b7fe-abd4616c4a5c"
      },
      "source": [
        "best_encoder.load_weights(\"best_model.h5\", by_name=True)\n",
        "best_decoder.load_weights(\"best_model.h5\", by_name=True)\n",
        "bleu_score = Evaluate(test_ja, test_en, best_encoder, best_decoder)\n",
        "print(\"bleu on test_dataset:\")\n",
        "print(bleu_score)"
      ],
      "execution_count": 35,
      "outputs": [
        {
          "output_type": "stream",
          "text": [
            "bleu on test_dataset:\n",
            "0.19258235343102567\n"
          ],
          "name": "stdout"
        }
      ]
    },
    {
      "cell_type": "code",
      "metadata": {
        "id": "YvRKDQ7Nmkxa"
      },
      "source": [
        ""
      ],
      "execution_count": 35,
      "outputs": []
    },
    {
      "cell_type": "code",
      "metadata": {
        "id": "g4N5yCFHn-iT"
      },
      "source": [
        ""
      ],
      "execution_count": null,
      "outputs": []
    },
    {
      "cell_type": "code",
      "metadata": {
        "id": "ZAdmQHmtz5Eu"
      },
      "source": [
        ""
      ],
      "execution_count": null,
      "outputs": []
    },
    {
      "cell_type": "code",
      "metadata": {
        "id": "GO2juBP3KleE"
      },
      "source": [
        ""
      ],
      "execution_count": null,
      "outputs": []
    },
    {
      "cell_type": "code",
      "metadata": {
        "id": "rufZ0IsAKmMs"
      },
      "source": [
        ""
      ],
      "execution_count": null,
      "outputs": []
    },
    {
      "cell_type": "code",
      "metadata": {
        "id": "6BHml0C9kq7d"
      },
      "source": [
        ""
      ],
      "execution_count": null,
      "outputs": []
    },
    {
      "cell_type": "code",
      "metadata": {
        "id": "DGs5ry7mlkDM"
      },
      "source": [
        ""
      ],
      "execution_count": null,
      "outputs": []
    },
    {
      "cell_type": "code",
      "metadata": {
        "id": "wVIbTcLImQq4"
      },
      "source": [
        ""
      ],
      "execution_count": null,
      "outputs": []
    },
    {
      "cell_type": "code",
      "metadata": {
        "id": "YfY3ViiRmTxj"
      },
      "source": [
        ""
      ],
      "execution_count": null,
      "outputs": []
    }
  ]
}